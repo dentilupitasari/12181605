{
 "cells": [
  {
   "cell_type": "code",
   "execution_count": 1,
   "metadata": {},
   "outputs": [
    {
     "data": {
      "application/vnd.jupyter.widget-view+json": {
       "model_id": "4e354c49-1459-4ec8-a519-4b8c059addea",
       "version_major": 2,
       "version_minor": 0
      },
      "method": "display_data"
     },
     "metadata": {},
     "output_type": "display_data"
    }
   ],
   "source": [
    "%classpath add jar libs/*"
   ]
  },
  {
   "cell_type": "code",
   "execution_count": 3,
   "metadata": {},
   "outputs": [
    {
     "name": "stdout",
     "output_type": "stream",
     "text": [
      "                                                                  12181605.csv                                                                   \n",
      " _id  |  idx  |    vervar    |                                 var                                 |  turvar  |  tahun  |  turtahun   |  nilai  |\n",
      "-------------------------------------------------------------------------------------------------------------------------------------------------\n",
      "   1  |    0  |  Hari Hujan  |  Curah Hujan pada Stasiun Meteorologi Benteng di Kepulauan Selayar  |          |   1995  |    Januari  |      8  |\n",
      "   2  |    1  |  Hari Hujan  |  Curah Hujan pada Stasiun Meteorologi Benteng di Kepulauan Selayar  |          |   1995  |   Februari  |     11  |\n",
      "   3  |    2  |  Hari Hujan  |  Curah Hujan pada Stasiun Meteorologi Benteng di Kepulauan Selayar  |          |   1995  |      Maret  |     11  |\n",
      "   4  |    3  |  Hari Hujan  |  Curah Hujan pada Stasiun Meteorologi Benteng di Kepulauan Selayar  |          |   1995  |      April  |      5  |\n",
      "   5  |    4  |  Hari Hujan  |  Curah Hujan pada Stasiun Meteorologi Benteng di Kepulauan Selayar  |          |   1995  |        Mei  |      7  |\n",
      "   6  |    5  |  Hari Hujan  |  Curah Hujan pada Stasiun Meteorologi Benteng di Kepulauan Selayar  |          |   1995  |       Juni  |     13  |\n",
      "   7  |    6  |  Hari Hujan  |  Curah Hujan pada Stasiun Meteorologi Benteng di Kepulauan Selayar  |          |   1995  |       Juli  |      7  |\n",
      "   8  |    7  |  Hari Hujan  |  Curah Hujan pada Stasiun Meteorologi Benteng di Kepulauan Selayar  |          |   1995  |    Agustus  |      3  |\n",
      "   9  |    8  |  Hari Hujan  |  Curah Hujan pada Stasiun Meteorologi Benteng di Kepulauan Selayar  |          |   1995  |    Oktober  |      2  |\n",
      "  10  |    9  |  Hari Hujan  |  Curah Hujan pada Stasiun Meteorologi Benteng di Kepulauan Selayar  |          |   1995  |   November  |     12  |\n",
      " ...  |  ...  |         ...  |                                                                ...  |     ...  |    ...  |        ...  |    ...  |\n",
      " 138  |  137  |  Hari Hujan  |  Curah Hujan pada Stasiun Meteorologi Benteng di Kepulauan Selayar  |          |   2005  |    Agustus  |      -  |\n",
      " 139  |  138  |  Hari Hujan  |  Curah Hujan pada Stasiun Meteorologi Benteng di Kepulauan Selayar  |          |   2005  |    Oktober  |      4  |\n",
      " 140  |  139  |  Hari Hujan  |  Curah Hujan pada Stasiun Meteorologi Benteng di Kepulauan Selayar  |          |   2005  |   November  |     14  |\n",
      " 141  |  140  |  Hari Hujan  |  Curah Hujan pada Stasiun Meteorologi Benteng di Kepulauan Selayar  |          |   2005  |   Desember  |      8  |\n",
      " 142  |  141  |  Hari Hujan  |  Curah Hujan pada Stasiun Meteorologi Benteng di Kepulauan Selayar  |          |   2005  |    Tahunan  |      7  |\n",
      " 143  |  142  |  Hari Hujan  |  Curah Hujan pada Stasiun Meteorologi Benteng di Kepulauan Selayar  |          |   2005  |  September  |      -  |\n",
      " 144  |  143  |  Hari Hujan  |  Curah Hujan pada Stasiun Meteorologi Benteng di Kepulauan Selayar  |          |   2006  |    Januari  |      7  |\n",
      " 145  |  144  |  Hari Hujan  |  Curah Hujan pada Stasiun Meteorologi Benteng di Kepulauan Selayar  |          |   2006  |   Februari  |      4  |\n",
      " 146  |  145  |  Hari Hujan  |  Curah Hujan pada Stasiun Meteorologi Benteng di Kepulauan Selayar  |          |   2006  |      Maret  |      8  |\n",
      " 147  |  146  |  Hari Hujan  |  Curah Hujan pada Stasiun Meteorologi Benteng di Kepulauan Selayar  |          |   2006  |      April  |      4  |\n"
     ]
    },
    {
     "ename": "ERROR",
     "evalue": " java.lang.NumberFormatException",
     "output_type": "error",
     "traceback": [
      "\u001b[1;31mERROR: java.lang.NumberFormatException: Error adding value to column nilai: For input string: \"-\"\u001b[0;0m"
     ]
    }
   ],
   "source": [
    "import tech.tablesaw.api.*;\n",
    "import tech.tablesaw.io.xlsx.*;\n",
    "import static tech.tablesaw.aggregate.AggregateFunctions.*;\n",
    "\n",
    "// display Tablesaw tables with BeakerX table display widget\n",
    "tech.tablesaw.beakerx.TablesawDisplayer.register();\n",
    "\n",
    "//init objek\n",
    "Table  denti= Table.read().csv(\"datasets/12181605/12181605.csv\");\n",
    "\n",
    "//print dataset structure\n",
    "System.out.println(denti);\n",
    "\n",
    "//init objek XlsReader\n",
    "XlsxReader reader = new XlsxReader();\n",
    "XlsxReadOptions options = XlsxReadOptions.builder(\"datasets/12181605/12181605.xlsx\").build();\n",
    "Table tab = reader.read(options);\n",
    "\n",
    "Table dfDataXLS = reader.read(options);\n",
    "\n",
    "////Menampilkan struktur data frame dfDataXLS\n",
    "System.out.println(dfDataXLS.structure());\n",
    "\n",
    "//menggabungkan data pada dataframedata1 dan dataframedata2 untuk disimpan di df datagabung\n",
    "Table datagabung = denti.append(dfDataXLS);\n",
    "\n",
    "//menampilkan gabungan data yang ada di dataframe datagabung\n",
    "System.out.println(datagabung); \n",
    "\n",
    "//menampilkan summary data yang ada di dataframe datagabung kolom \"grade\"\n",
    "System.out.print(datagabung.summarize(\"nilai\", mean, max, min).apply());\n",
    "\n",
    "\n",
    "\n"
   ]
  },
  {
   "cell_type": "code",
   "execution_count": null,
   "metadata": {},
   "outputs": [],
   "source": []
  }
 ],
 "metadata": {
  "kernelspec": {
   "display_name": "Java",
   "language": "java",
   "name": "java"
  },
  "language_info": {
   "codemirror_mode": "text/x-java",
   "file_extension": ".java",
   "mimetype": "",
   "name": "Java",
   "nbconverter_exporter": "",
   "version": "1.8.0_121"
  },
  "toc": {
   "base_numbering": 1,
   "nav_menu": {},
   "number_sections": false,
   "sideBar": false,
   "skip_h1_title": false,
   "title_cell": "Table of Contents",
   "title_sidebar": "Contents",
   "toc_cell": false,
   "toc_position": {},
   "toc_section_display": false,
   "toc_window_display": false
  }
 },
 "nbformat": 4,
 "nbformat_minor": 2
}
